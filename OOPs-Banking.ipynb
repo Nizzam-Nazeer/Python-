{
 "cells": [
  {
   "cell_type": "code",
   "execution_count": 18,
   "id": "fc7f71a8-2f3c-4445-8b3c-77563ef36345",
   "metadata": {},
   "outputs": [
    {
     "name": "stdout",
     "output_type": "stream",
     "text": [
      "Welcome to the Python Banking System\n"
     ]
    },
    {
     "name": "stdin",
     "output_type": "stream",
     "text": [
      "Enter your account number:  1001\n",
      "Enter your PIN:  1234\n"
     ]
    },
    {
     "name": "stdout",
     "output_type": "stream",
     "text": [
      "Welcome! Account number: 1001\n",
      "\n",
      "Please choose an option:\n",
      "1. Check Balance\n",
      "2. Deposit Money\n",
      "3. Withdraw Money\n",
      "4. Change PIN\n",
      "5. Exit\n"
     ]
    },
    {
     "name": "stdin",
     "output_type": "stream",
     "text": [
      "Enter your choice:  1\n"
     ]
    },
    {
     "name": "stdout",
     "output_type": "stream",
     "text": [
      "Your current balance is $500000.0\n",
      "\n",
      "Please choose an option:\n",
      "1. Check Balance\n",
      "2. Deposit Money\n",
      "3. Withdraw Money\n",
      "4. Change PIN\n",
      "5. Exit\n"
     ]
    },
    {
     "name": "stdin",
     "output_type": "stream",
     "text": [
      "Enter your choice:  2\n",
      "Enter amount to deposit:  1520000\n"
     ]
    },
    {
     "name": "stdout",
     "output_type": "stream",
     "text": [
      "Deposited $1520000.0. Your current balance is $2020000.0\n",
      "\n",
      "Please choose an option:\n",
      "1. Check Balance\n",
      "2. Deposit Money\n",
      "3. Withdraw Money\n",
      "4. Change PIN\n",
      "5. Exit\n"
     ]
    },
    {
     "name": "stdin",
     "output_type": "stream",
     "text": [
      "Enter your choice:  3\n",
      "Enter amount to withdraw:  150000\n"
     ]
    },
    {
     "name": "stdout",
     "output_type": "stream",
     "text": [
      "Withdrew $150000.0. Your current balance is $1870000.0\n",
      "\n",
      "Please choose an option:\n",
      "1. Check Balance\n",
      "2. Deposit Money\n",
      "3. Withdraw Money\n",
      "4. Change PIN\n",
      "5. Exit\n"
     ]
    },
    {
     "name": "stdin",
     "output_type": "stream",
     "text": [
      "Enter your choice:  4\n",
      "Enter old PIN:  1234\n",
      "Enter new PIN:  2468\n"
     ]
    },
    {
     "name": "stdout",
     "output_type": "stream",
     "text": [
      "PIN successfully changed.\n",
      "\n",
      "Please choose an option:\n",
      "1. Check Balance\n",
      "2. Deposit Money\n",
      "3. Withdraw Money\n",
      "4. Change PIN\n",
      "5. Exit\n"
     ]
    },
    {
     "name": "stdin",
     "output_type": "stream",
     "text": [
      "Enter your choice:  5\n"
     ]
    },
    {
     "name": "stdout",
     "output_type": "stream",
     "text": [
      "Thank you for using the banking system.\n"
     ]
    }
   ],
   "source": [
    "class BankAccount:\n",
    "    def __init__(self, account_number, pin, balance=0.0):\n",
    "        self.account_number = account_number\n",
    "        self.pin = pin\n",
    "        self.balance = balance\n",
    "\n",
    "    def check_balance(self):\n",
    "        return f\"Your current balance is ${self.balance}\"\n",
    "\n",
    "    def deposit(self, amount):\n",
    "        if amount > 0:\n",
    "            self.balance += amount\n",
    "            return f\"Deposited ${amount}. {self.check_balance()}\"\n",
    "        else:\n",
    "            return \"Invalid deposit amount.\"\n",
    "\n",
    "    def withdraw(self, amount):\n",
    "        if amount <= 0:\n",
    "            return \"Invalid withdrawal amount.\"\n",
    "        elif amount > self.balance:\n",
    "            return \"Insufficient funds.\"\n",
    "        else:\n",
    "            self.balance -= amount\n",
    "            return f\"Withdrew ${amount}. {self.check_balance()}\"\n",
    "\n",
    "    def change_pin(self, old_pin, new_pin):\n",
    "        if self.pin == old_pin:\n",
    "            self.pin = new_pin\n",
    "            return \"PIN successfully changed.\"\n",
    "        else:\n",
    "            return \"Old PIN is incorrect.\"\n",
    "\n",
    "def login(account_number, pin, accounts_db):\n",
    "    if account_number in accounts_db:\n",
    "        account = accounts_db[account_number]\n",
    "        if account.pin == pin:\n",
    "            return account\n",
    "        else:\n",
    "            return \"Incorrect PIN.\"\n",
    "    else:\n",
    "        return \"Account not found.\"\n",
    "\n",
    "def main():\n",
    "    # Sample Accounts (Account Number -> BankAccount)\n",
    "    accounts_db = {\n",
    "        1001: BankAccount(1001, \"1234\", 500000.0),\n",
    "        1002: BankAccount(1002, \"5678\", 30000.0),\n",
    "        1003: BankAccount(1003, \"2468\", 1800000.0),\n",
    "        1004: BankAccount(1004, \"0000\", 300000000.0)\n",
    "    }\n",
    "\n",
    "    print(\"Welcome to the Python Banking System\")\n",
    "    \n",
    "    # User Login\n",
    "    account_number = int(input(\"Enter your account number: \"))\n",
    "    pin = input(\"Enter your PIN: \")\n",
    "    \n",
    "    account = login(account_number, pin, accounts_db)\n",
    "    \n",
    "    if isinstance(account, BankAccount):\n",
    "        print(f\"Welcome! Account number: {account.account_number}\")\n",
    "        while True:\n",
    "            print(\"\\nPlease choose an option:\")\n",
    "            print(\"1. Check Balance\")\n",
    "            print(\"2. Deposit Money\")\n",
    "            print(\"3. Withdraw Money\")\n",
    "            print(\"4. Change PIN\")\n",
    "            print(\"5. Exit\")\n",
    "\n",
    "            choice = input(\"Enter your choice: \")\n",
    "\n",
    "            if choice == \"1\":\n",
    "                print(account.check_balance())\n",
    "\n",
    "            elif choice == \"2\":\n",
    "                amount = float(input(\"Enter amount to deposit: \"))\n",
    "                print(account.deposit(amount))\n",
    "\n",
    "            elif choice == \"3\":\n",
    "                amount = float(input(\"Enter amount to withdraw: \"))\n",
    "                print(account.withdraw(amount))\n",
    "\n",
    "            elif choice == \"4\":\n",
    "                old_pin = input(\"Enter old PIN: \")\n",
    "                new_pin = input(\"Enter new PIN: \")\n",
    "                print(account.change_pin(old_pin, new_pin))\n",
    "\n",
    "            elif choice == \"5\":\n",
    "                print(\"Thank you for using the banking system.\")\n",
    "                break\n",
    "\n",
    "            else:\n",
    "                print(\"Invalid choice. Please try again.\")\n",
    "    else:\n",
    "        print(account)  # Display login error message (Incorrect PIN or Account not found)\n",
    "\n",
    "if __name__ == \"__main__\":\n",
    "    main()\n"
   ]
  },
  {
   "cell_type": "code",
   "execution_count": null,
   "id": "c3afe086-d2a3-46a4-b511-f2576950f511",
   "metadata": {},
   "outputs": [],
   "source": []
  }
 ],
 "metadata": {
  "kernelspec": {
   "display_name": "Python 3 (ipykernel)",
   "language": "python",
   "name": "python3"
  },
  "language_info": {
   "codemirror_mode": {
    "name": "ipython",
    "version": 3
   },
   "file_extension": ".py",
   "mimetype": "text/x-python",
   "name": "python",
   "nbconvert_exporter": "python",
   "pygments_lexer": "ipython3",
   "version": "3.12.4"
  }
 },
 "nbformat": 4,
 "nbformat_minor": 5
}
